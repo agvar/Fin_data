{
 "cells": [
  {
   "cell_type": "markdown",
   "id": "copyrighted-deposit",
   "metadata": {},
   "source": [
    "Meta data for input file fields\n",
    "\n",
    "id:A unique LC assigned ID for the loan listing.\n",
    "loanAmnt:The listed amount of the loan applied for by the borrower. If at some point in time, the credit department reduces the loan amount, then it will be reflected in this value.\n",
    "addrState The state provided by the borrower in the loan application\n",
    "application_type: Indicates whether the loan is an individual application or a joint application with two co-borrowers\n",
    "delinq2Yrs:The number of 30+ days past-due incidences of delinquency in the borrower's credit file for the past 2 years\n",
    "dti:A ratio calculated using the borrower’s total monthly debt payments on the total debt obligations, excluding mortgage and the requested LC loan, divided by the borrower’s self-reported monthly income.\n",
    "dti_joint:A ratio calculated using the co-borrowers' total monthly payments on the total debt obligations, excluding mortgages and the requested LC loan, divided by the co-borrowers' combined self-reported monthly income\n",
    "earliestCrLine:The date the borrower's earliest reported credit line was opened\n",
    "empLength:Employment length in years. Possible values are between 0 and 10 where 0 means less than one year and 10 means ten or more years.\n",
    "ficoRangeHigh:The upper boundary range the borrower’s FICO at loan origination belongs to.\n",
    "ficoRangeLow:The lower boundary range the borrower’s FICO at loan origination belongs to.\n",
    "sec_app_fico_range_low:FICO range (high) for the secondary applicant\n",
    "sec_app_fico_range_high:FICO range (low) for the secondary applicant\n",
    "grade:LC assigned loan grade\n",
    "homeOwnership:The home ownership status provided by the borrower during registration. Our values are: RENT, OWN, MORTGAGE, OTHER.\n",
    "inq_last_12m:Number of credit inquiries in past 12 months\n",
    "int_rate:Interest Rate on the loan\n",
    "num_tl_90g_dpd_24m:Number of accounts 90 or more days past due in last 24 months\n",
    "openAcc:The number of open credit lines in the borrower's credit file.\n",
    "purpose:A category provided by the borrower for the loan request. \n",
    "term:The number of payments on the loan. Values are in months and can be either 36 or 60.\n",
    "total_acc:The total number of credit lines currently in the borrower's credit file\n",
    "zip_code:The first 3 numbers of the zip code provided by the borrower in the loan application.\n",
    "\n"
   ]
  },
  {
   "cell_type": "code",
   "execution_count": 8,
   "id": "moral-combination",
   "metadata": {},
   "outputs": [
    {
     "data": {
      "application/vnd.jupyter.widget-view+json": {
       "model_id": "76e154699331458fad503f3853a4f877",
       "version_major": 2,
       "version_minor": 0
      },
      "text/plain": [
       "VBox()"
      ]
     },
     "metadata": {},
     "output_type": "display_data"
    },
    {
     "data": {
      "application/vnd.jupyter.widget-view+json": {
       "model_id": "",
       "version_major": 2,
       "version_minor": 0
      },
      "text/plain": [
       "FloatProgress(value=0.0, bar_style='info', description='Progress:', layout=Layout(height='25px', width='50%'),…"
      ]
     },
     "metadata": {},
     "output_type": "display_data"
    },
    {
     "name": "stdout",
     "output_type": "stream",
     "text": [
      "+--------+---------+----------+--------+-----------+-----+----------+--------------+----------+-------------------+-----------+--------+------------------+----------+----------------+-----+-----------+----------+---------+------------------+---------+---------+\n",
      "|      id|loan_amnt|      term|int_rate|installment|grade|emp_length|home_ownership|annual_inc|verification_status|loan_status| issue_d|           purpose|addr_state|application_type|  dti|delinq_2yrs|revol_util|total_acc|num_tl_90g_dpd_24m|dti_joint|total_acc|\n",
      "+--------+---------+----------+--------+-----------+-----+----------+--------------+----------+-------------------+-----------+--------+------------------+----------+----------------+-----+-----------+----------+---------+------------------+---------+---------+\n",
      "|68407277|   3600.0| 36 months|   13.99|     123.03|    C| 10+ years|      MORTGAGE|   55000.0|       Not Verified| Fully Paid|Dec-2015|debt_consolidation|        PA|      Individual| 5.91|        0.0|      29.7|     13.0|               0.0|     null|     13.0|\n",
      "|68355089|  24700.0| 36 months|   11.99|     820.28|    C| 10+ years|      MORTGAGE|   65000.0|       Not Verified| Fully Paid|Dec-2015|    small_business|        SD|      Individual|16.06|        1.0|      19.2|     38.0|               0.0|     null|     38.0|\n",
      "|68341763|  20000.0| 60 months|   10.78|     432.66|    B| 10+ years|      MORTGAGE|   63000.0|       Not Verified| Fully Paid|Dec-2015|  home_improvement|        IL|       Joint App|10.78|        0.0|      56.2|     18.0|               0.0|    13.85|     18.0|\n",
      "|66310712|  35000.0| 60 months|   14.85|      829.9|    C| 10+ years|      MORTGAGE|  110000.0|    Source Verified|    Current|Dec-2015|debt_consolidation|        NJ|      Individual|17.06|        0.0|      11.6|     17.0|               0.0|     null|     17.0|\n",
      "|68476807|  10400.0| 60 months|   22.45|     289.91|    F|   3 years|      MORTGAGE|  104433.0|    Source Verified| Fully Paid|Dec-2015|    major_purchase|        PA|      Individual|25.37|        1.0|      64.5|     35.0|               0.0|     null|     35.0|\n",
      "|68426831|  11950.0| 36 months|   13.44|     405.18|    C|   4 years|          RENT|   34000.0|    Source Verified| Fully Paid|Dec-2015|debt_consolidation|        GA|      Individual| 10.2|        0.0|      68.4|      6.0|               0.0|     null|      6.0|\n",
      "|68476668|  20000.0| 36 months|    9.17|     637.58|    B| 10+ years|      MORTGAGE|  180000.0|       Not Verified| Fully Paid|Dec-2015|debt_consolidation|        MN|      Individual|14.67|        0.0|      84.5|     27.0|               0.0|     null|     27.0|\n",
      "|67275481|  20000.0| 36 months|    8.49|     631.26|    B| 10+ years|      MORTGAGE|   85000.0|       Not Verified| Fully Paid|Dec-2015|    major_purchase|        SC|      Individual|17.61|        1.0|       5.7|     15.0|               1.0|     null|     15.0|\n",
      "|68466926|  10000.0| 36 months|    6.49|     306.45|    A|   6 years|          RENT|   85000.0|       Not Verified| Fully Paid|Dec-2015|       credit_card|        PA|      Individual|13.07|        0.0|      34.5|     23.0|               0.0|     null|     23.0|\n",
      "|68616873|   8000.0| 36 months|   11.48|     263.74|    B| 10+ years|      MORTGAGE|   42000.0|       Not Verified| Fully Paid|Dec-2015|       credit_card|        RI|      Individual| 34.8|        0.0|      39.1|     18.0|               0.0|     null|     18.0|\n",
      "|68356421|  22400.0| 60 months|   12.88|      508.3|    C|   6 years|      MORTGAGE|   95000.0|       Not Verified|    Current|Dec-2015|debt_consolidation|        SC|      Individual|22.98|        0.0|      32.7|     35.0|               0.0|     null|     35.0|\n",
      "|68426545|  16000.0| 60 months|   12.88|     363.07|    C|    1 year|      MORTGAGE|   70000.0|       Not Verified|    Current|Dec-2015|debt_consolidation|        TX|      Individual| 26.4|        0.0|      56.3|     29.0|               0.0|     null|     29.0|\n",
      "|68338832|   1400.0| 36 months|   12.88|       47.1|    C|   3 years|      MORTGAGE|   64000.0|       Not Verified| Fully Paid|Dec-2015|             other|        NC|      Individual|34.95|        0.0|      67.2|     24.0|               0.0|     null|     24.0|\n",
      "|66624733|  18000.0| 60 months|   19.48|      471.7|    E|   7 years|          RENT|  150000.0|       Not Verified|Charged Off|Dec-2015|debt_consolidation|        CA|      Individual| 9.39|        0.0|      40.7|     27.0|               0.0|     null|     27.0|\n",
      "|68466961|  28000.0| 36 months|    6.49|     858.05|    A| 10+ years|      MORTGAGE|   92000.0|       Not Verified| Fully Paid|Dec-2015|debt_consolidation|        NC|      Individual| 21.6|        0.0|      64.5|     24.0|               0.0|     null|     24.0|\n",
      "|68354783|   9600.0| 36 months|    7.49|     298.58|    A|   8 years|      MORTGAGE|   60000.0|       Not Verified| Fully Paid|Dec-2015|       credit_card|        SC|      Individual|22.44|        0.0|      59.4|      9.0|               0.0|     null|      9.0|\n",
      "|68466916|  25000.0| 36 months|    7.49|     777.55|    A| 10+ years|      MORTGAGE|  109000.0|       Not Verified| Fully Paid|Dec-2015|debt_consolidation|        VA|      Individual|26.02|        0.0|      54.3|     19.0|               0.0|     null|     19.0|\n",
      "|68577849|  18000.0| 60 months|   11.99|     400.31|    C| 10+ years|      MORTGAGE|  112000.0|       Not Verified| Fully Paid|Dec-2015|debt_consolidation|        AZ|      Individual| 8.68|        0.0|      15.5|     27.0|               0.0|     null|     27.0|\n",
      "|68506798|  23000.0| 60 months|    8.49|     471.77|    B|   5 years|          RENT|   64000.0|       Not Verified|    Current|Dec-2015|       credit_card|        NY|      Individual|18.28|        0.0|      52.7|     33.0|               0.0|     null|     33.0|\n",
      "|68495092|   8650.0| 36 months|   19.89|     320.99|    E|   8 years|          RENT|   55000.0|           Verified| Fully Paid|Dec-2015|debt_consolidation|        IN|      Individual|25.49|        0.0|      46.0|     19.0|               0.0|     null|     19.0|\n",
      "+--------+---------+----------+--------+-----------+-----+----------+--------------+----------+-------------------+-----------+--------+------------------+----------+----------------+-----+-----------+----------+---------+------------------+---------+---------+\n",
      "only showing top 20 rows"
     ]
    }
   ],
   "source": [
    "input_file_path=\"s3://findataanalysis202001012020130112234/accepted_2007_to_2018Q4.csv\"\n",
    "input_col_list=['id','loan_amnt','term','int_rate','installment','grade','emp_length','home_ownership','annual_inc','verification_status',\\\n",
    "               'loan_status','issue_d','purpose','addr_state','application_type','dti','delinq_2yrs','revol_util','total_acc','num_tl_90g_dpd_24m','dti_joint','total_acc']\n",
    "input_df=spark.read.format(\"csv\")\\\n",
    "        .option(\"inferSchema\",\"true\")\\\n",
    "        .option(\"header\",\"true\")\\\n",
    "        .option(\"sep\",\",\")\\\n",
    "        .load(input_file_path).select(input_col_list)\n",
    "input_df.show()"
   ]
  },
  {
   "cell_type": "code",
   "execution_count": 14,
   "id": "collective-safety",
   "metadata": {},
   "outputs": [
    {
     "data": {
      "application/vnd.jupyter.widget-view+json": {
       "model_id": "ca66a3e7fb9c46ef9b20be22f946611a",
       "version_major": 2,
       "version_minor": 0
      },
      "text/plain": [
       "VBox()"
      ]
     },
     "metadata": {},
     "output_type": "display_data"
    },
    {
     "data": {
      "application/vnd.jupyter.widget-view+json": {
       "model_id": "",
       "version_major": 2,
       "version_minor": 0
      },
      "text/plain": [
       "FloatProgress(value=0.0, bar_style='info', description='Progress:', layout=Layout(height='25px', width='50%'),…"
      ]
     },
     "metadata": {},
     "output_type": "display_data"
    },
    {
     "name": "stdout",
     "output_type": "stream",
     "text": [
      "root\n",
      " |-- id: string (nullable = true)\n",
      " |-- loan_amnt: double (nullable = true)\n",
      " |-- term: string (nullable = true)\n",
      " |-- int_rate: double (nullable = true)\n",
      " |-- installment: double (nullable = true)\n",
      " |-- grade: string (nullable = true)\n",
      " |-- emp_length: string (nullable = true)\n",
      " |-- home_ownership: string (nullable = true)\n",
      " |-- annual_inc: string (nullable = true)\n",
      " |-- verification_status: string (nullable = true)\n",
      " |-- loan_status: string (nullable = true)\n",
      " |-- issue_d: string (nullable = true)\n",
      " |-- purpose: string (nullable = true)\n",
      " |-- addr_state: string (nullable = true)\n",
      " |-- application_type: string (nullable = true)\n",
      " |-- dti: string (nullable = true)\n",
      " |-- delinq_2yrs: string (nullable = true)\n",
      " |-- revol_util: string (nullable = true)\n",
      " |-- total_acc: string (nullable = true)\n",
      " |-- num_tl_90g_dpd_24m: double (nullable = true)\n",
      " |-- dti_joint: string (nullable = true)\n",
      " |-- total_acc: string (nullable = true)\n",
      "\n",
      "DataFrame[summary: string, loan_amnt: string]"
     ]
    }
   ],
   "source": [
    "input_df.printSchema()\n"
   ]
  },
  {
   "cell_type": "code",
   "execution_count": 21,
   "id": "tamil-shipping",
   "metadata": {},
   "outputs": [
    {
     "data": {
      "application/vnd.jupyter.widget-view+json": {
       "model_id": "716298831e924d12a60506ded74d42e5",
       "version_major": 2,
       "version_minor": 0
      },
      "text/plain": [
       "VBox()"
      ]
     },
     "metadata": {},
     "output_type": "display_data"
    },
    {
     "data": {
      "application/vnd.jupyter.widget-view+json": {
       "model_id": "",
       "version_major": 2,
       "version_minor": 0
      },
      "text/plain": [
       "FloatProgress(value=0.0, bar_style='info', description='Progress:', layout=Layout(height='25px', width='50%'),…"
      ]
     },
     "metadata": {},
     "output_type": "display_data"
    },
    {
     "name": "stdout",
     "output_type": "stream",
     "text": [
      "DataFrame[id: string, loan_amnt: double, term: string, int_rate: double, installment: double, grade: string, emp_length: string, home_ownership: string, annual_inc: string, verification_status: string, loan_status: string, issue_d: string, purpose: string, addr_state: string, application_type: string, dti: string, delinq_2yrs: string, revol_util: string, total_acc: string, num_tl_90g_dpd_24m: double, dti_joint: string, total_acc: string]"
     ]
    }
   ],
   "source": [
    "input_df.cache()"
   ]
  },
  {
   "cell_type": "code",
   "execution_count": 35,
   "id": "induced-moderator",
   "metadata": {},
   "outputs": [
    {
     "data": {
      "application/vnd.jupyter.widget-view+json": {
       "model_id": "c930a807bd2042feb5ec0234b6dac7e6",
       "version_major": 2,
       "version_minor": 0
      },
      "text/plain": [
       "VBox()"
      ]
     },
     "metadata": {},
     "output_type": "display_data"
    },
    {
     "data": {
      "application/vnd.jupyter.widget-view+json": {
       "model_id": "",
       "version_major": 2,
       "version_minor": 0
      },
      "text/plain": [
       "FloatProgress(value=0.0, bar_style='info', description='Progress:', layout=Layout(height='25px', width='50%'),…"
      ]
     },
     "metadata": {},
     "output_type": "display_data"
    },
    {
     "name": "stdout",
     "output_type": "stream",
     "text": [
      "+-------+--------------------+------------------+----------+------------------+------------------+------------------+----------+------------------+------------------+--------------------+------------------+-------------------+------------------+\n",
      "|summary|                  id|         loan_amnt|      term|          int_rate|       installment|        annual_inc|emp_length|               dti|       delinq_2yrs|          revol_util|         total_acc| num_tl_90g_dpd_24m|         dti_joint|\n",
      "+-------+--------------------+------------------+----------+------------------+------------------+------------------+----------+------------------+------------------+--------------------+------------------+-------------------+------------------+\n",
      "|  count|             2260701|           2260668|   2260668|           2260668|           2260668|           2260664|   2113761|           2258956|           2260638|             2258834|           2260618|            2190394|            120872|\n",
      "|   mean| 8.032205972323003E7|15046.931227849467|      null|13.092829115115325|445.80682288154964| 77992.44637764219|      null|18.824907147958026|0.3072159491072534|  50.865374118007324| 24.46292690641181|0.08294626446201003|20.072468331610875|\n",
      "| stddev|4.4985611312901564E7| 9190.245488232757|      null| 4.832138364571108| 267.1735346084259|112696.22136091371|      null|14.183773199305033| 0.870377226111084|   185.3175434907731|104.02520390697627|  0.493738465938148| 83.95680989143524|\n",
      "|    min|             1000007|             500.0| 36 months|              5.31|              4.93|               0.0| reactors\"|       Karen     \"|          BEST BUY| I am working on ...|     I mean.<br/>\"|                0.0|               0.0|\n",
      "|    max|Total amount fund...|           40000.0| 60 months|             30.99|           1719.83|          MORTGAGE|  < 1 year|           wedding|    small_business|               other|    small_business|               58.0|          Oct-2012|\n",
      "+-------+--------------------+------------------+----------+------------------+------------------+------------------+----------+------------------+------------------+--------------------+------------------+-------------------+------------------+"
     ]
    }
   ],
   "source": [
    "cols_double=['id','loan_amnt','term','int_rate','installment','annual_inc','emp_length','dti','delinq_2yrs','revol_util','total_acc','num_tl_90g_dpd_24m','dti_joint']\n",
    "input_df.describe(cols_double).show()"
   ]
  },
  {
   "cell_type": "code",
   "execution_count": 48,
   "id": "palestinian-processing",
   "metadata": {},
   "outputs": [
    {
     "data": {
      "application/vnd.jupyter.widget-view+json": {
       "model_id": "d7cfdf51959f4699abeddd424fdc6bdb",
       "version_major": 2,
       "version_minor": 0
      },
      "text/plain": [
       "VBox()"
      ]
     },
     "metadata": {},
     "output_type": "display_data"
    },
    {
     "data": {
      "application/vnd.jupyter.widget-view+json": {
       "model_id": "",
       "version_major": 2,
       "version_minor": 0
      },
      "text/plain": [
       "FloatProgress(value=0.0, bar_style='info', description='Progress:', layout=Layout(height='25px', width='50%'),…"
      ]
     },
     "metadata": {},
     "output_type": "display_data"
    },
    {
     "name": "stdout",
     "output_type": "stream",
     "text": [
      "+----------+----------+\n",
      "|emp_length|annual_inc|\n",
      "+----------+----------+\n",
      "|   9 years|  110000.0|\n",
      "|   3 years|  122815.0|\n",
      "|   3 years|   29000.0|\n",
      "|   2 years|   34000.0|\n",
      "|      null|   15396.0|\n",
      "|   3 years|   70200.0|\n",
      "|      null|   47364.0|\n",
      "| 10+ years|   50891.0|\n",
      "| 10+ years|   44500.0|\n",
      "|   2 years|  102000.0|\n",
      "|  < 1 year|   24720.0|\n",
      "|   5 years|  285000.0|\n",
      "| 10+ years|    3800.0|\n",
      "|      null|   38400.0|\n",
      "|   2 years|   50986.0|\n",
      "|  < 1 year|   91000.0|\n",
      "|   2 years|   61500.0|\n",
      "| 10+ years|  105750.0|\n",
      "|   8 years|  263000.0|\n",
      "|   8 years|   44408.0|\n",
      "+----------+----------+\n",
      "only showing top 20 rows"
     ]
    }
   ],
   "source": [
    "input_df.select('emp_length','annual_inc').distinct().show()"
   ]
  },
  {
   "cell_type": "code",
   "execution_count": 53,
   "id": "played-effort",
   "metadata": {},
   "outputs": [
    {
     "data": {
      "application/vnd.jupyter.widget-view+json": {
       "model_id": "992a2d392acc4c659a14b36af0aa9de9",
       "version_major": 2,
       "version_minor": 0
      },
      "text/plain": [
       "VBox()"
      ]
     },
     "metadata": {},
     "output_type": "display_data"
    },
    {
     "data": {
      "application/vnd.jupyter.widget-view+json": {
       "model_id": "",
       "version_major": 2,
       "version_minor": 0
      },
      "text/plain": [
       "FloatProgress(value=0.0, bar_style='info', description='Progress:', layout=Layout(height='25px', width='50%'),…"
      ]
     },
     "metadata": {},
     "output_type": "display_data"
    },
    {
     "name": "stdout",
     "output_type": "stream",
     "text": [
      "[('id', 'string'), ('loan_amnt', 'double'), ('term', 'string'), ('int_rate', 'double'), ('installment', 'double'), ('grade', 'string'), ('emp_length', 'string'), ('home_ownership', 'string'), ('annual_inc', 'string'), ('verification_status', 'string'), ('loan_status', 'string'), ('issue_d', 'string'), ('purpose', 'string'), ('addr_state', 'string'), ('application_type', 'string'), ('dti', 'string'), ('delinq_2yrs', 'string'), ('revol_util', 'string'), ('total_acc', 'string'), ('num_tl_90g_dpd_24m', 'double'), ('dti_joint', 'string'), ('total_acc', 'string')]"
     ]
    }
   ],
   "source": [
    "input_df.dtypes"
   ]
  },
  {
   "cell_type": "markdown",
   "id": "offshore-citation",
   "metadata": {},
   "source": [
    "### Create list 'field_list' as the list of all columns that need to be changed to double ( as the current data type on them is not)"
   ]
  },
  {
   "cell_type": "code",
   "execution_count": 56,
   "id": "difficult-charter",
   "metadata": {},
   "outputs": [
    {
     "data": {
      "application/vnd.jupyter.widget-view+json": {
       "model_id": "0593ddefea834e67b3b0328b8e8d0181",
       "version_major": 2,
       "version_minor": 0
      },
      "text/plain": [
       "VBox()"
      ]
     },
     "metadata": {},
     "output_type": "display_data"
    },
    {
     "data": {
      "application/vnd.jupyter.widget-view+json": {
       "model_id": "",
       "version_major": 2,
       "version_minor": 0
      },
      "text/plain": [
       "FloatProgress(value=0.0, bar_style='info', description='Progress:', layout=Layout(height='25px', width='50%'),…"
      ]
     },
     "metadata": {},
     "output_type": "display_data"
    },
    {
     "name": "stderr",
     "output_type": "stream",
     "text": [
      "An error occurred while calling z:org.apache.spark.sql.functions.regexp_replace. Trace:\n",
      "py4j.Py4JException: Method regexp_replace([class org.apache.spark.sql.Column, class java.util.ArrayList, class java.lang.String]) does not exist\n",
      "\tat py4j.reflection.ReflectionEngine.getMethod(ReflectionEngine.java:318)\n",
      "\tat py4j.reflection.ReflectionEngine.getMethod(ReflectionEngine.java:339)\n",
      "\tat py4j.Gateway.invoke(Gateway.java:276)\n",
      "\tat py4j.commands.AbstractCommand.invokeMethod(AbstractCommand.java:132)\n",
      "\tat py4j.commands.CallCommand.execute(CallCommand.java:79)\n",
      "\tat py4j.GatewayConnection.run(GatewayConnection.java:238)\n",
      "\tat java.lang.Thread.run(Thread.java:748)\n",
      "\n",
      "\n",
      "Traceback (most recent call last):\n",
      "  File \"/usr/lib/spark/python/lib/pyspark.zip/pyspark/sql/functions.py\", line 1713, in regexp_replace\n",
      "    jc = sc._jvm.functions.regexp_replace(_to_java_column(str), pattern, replacement)\n",
      "  File \"/usr/lib/spark/python/lib/py4j-0.10.7-src.zip/py4j/java_gateway.py\", line 1257, in __call__\n",
      "    answer, self.gateway_client, self.target_id, self.name)\n",
      "  File \"/usr/lib/spark/python/lib/pyspark.zip/pyspark/sql/utils.py\", line 63, in deco\n",
      "    return f(*a, **kw)\n",
      "  File \"/usr/lib/spark/python/lib/py4j-0.10.7-src.zip/py4j/protocol.py\", line 332, in get_return_value\n",
      "    format(target_id, \".\", name, value))\n",
      "py4j.protocol.Py4JError: An error occurred while calling z:org.apache.spark.sql.functions.regexp_replace. Trace:\n",
      "py4j.Py4JException: Method regexp_replace([class org.apache.spark.sql.Column, class java.util.ArrayList, class java.lang.String]) does not exist\n",
      "\tat py4j.reflection.ReflectionEngine.getMethod(ReflectionEngine.java:318)\n",
      "\tat py4j.reflection.ReflectionEngine.getMethod(ReflectionEngine.java:339)\n",
      "\tat py4j.Gateway.invoke(Gateway.java:276)\n",
      "\tat py4j.commands.AbstractCommand.invokeMethod(AbstractCommand.java:132)\n",
      "\tat py4j.commands.CallCommand.execute(CallCommand.java:79)\n",
      "\tat py4j.GatewayConnection.run(GatewayConnection.java:238)\n",
      "\tat java.lang.Thread.run(Thread.java:748)\n",
      "\n",
      "\n",
      "\n"
     ]
    }
   ],
   "source": [
    "from pyspark.sql.functions import col,regexp_extract\n",
    "field_list=[ col[0] for col in input_df.dtypes if  col[0] in cols_double and col[1]!='double']\n",
    "for field in col_list:\n",
    "    input_df=input_df.withColumn(field,regexp_replace(col(field),['a-z'],''))"
   ]
  },
  {
   "cell_type": "code",
   "execution_count": 52,
   "id": "structured-mobile",
   "metadata": {},
   "outputs": [
    {
     "data": {
      "application/vnd.jupyter.widget-view+json": {
       "model_id": "e49d0eedaf424eebb6f1944eb7a733dc",
       "version_major": 2,
       "version_minor": 0
      },
      "text/plain": [
       "VBox()"
      ]
     },
     "metadata": {},
     "output_type": "display_data"
    },
    {
     "data": {
      "application/vnd.jupyter.widget-view+json": {
       "model_id": "",
       "version_major": 2,
       "version_minor": 0
      },
      "text/plain": [
       "FloatProgress(value=0.0, bar_style='info', description='Progress:', layout=Layout(height='25px', width='50%'),…"
      ]
     },
     "metadata": {},
     "output_type": "display_data"
    },
    {
     "name": "stderr",
     "output_type": "stream",
     "text": [
      "An error occurred while calling z:org.apache.spark.sql.functions.regexp_replace. Trace:\n",
      "py4j.Py4JException: Method regexp_replace([class org.apache.spark.sql.Column, class java.util.ArrayList, class java.lang.String]) does not exist\n",
      "\tat py4j.reflection.ReflectionEngine.getMethod(ReflectionEngine.java:318)\n",
      "\tat py4j.reflection.ReflectionEngine.getMethod(ReflectionEngine.java:339)\n",
      "\tat py4j.Gateway.invoke(Gateway.java:276)\n",
      "\tat py4j.commands.AbstractCommand.invokeMethod(AbstractCommand.java:132)\n",
      "\tat py4j.commands.CallCommand.execute(CallCommand.java:79)\n",
      "\tat py4j.GatewayConnection.run(GatewayConnection.java:238)\n",
      "\tat java.lang.Thread.run(Thread.java:748)\n",
      "\n",
      "\n",
      "Traceback (most recent call last):\n",
      "  File \"/usr/lib/spark/python/lib/pyspark.zip/pyspark/sql/functions.py\", line 1713, in regexp_replace\n",
      "    jc = sc._jvm.functions.regexp_replace(_to_java_column(str), pattern, replacement)\n",
      "  File \"/usr/lib/spark/python/lib/py4j-0.10.7-src.zip/py4j/java_gateway.py\", line 1257, in __call__\n",
      "    answer, self.gateway_client, self.target_id, self.name)\n",
      "  File \"/usr/lib/spark/python/lib/pyspark.zip/pyspark/sql/utils.py\", line 63, in deco\n",
      "    return f(*a, **kw)\n",
      "  File \"/usr/lib/spark/python/lib/py4j-0.10.7-src.zip/py4j/protocol.py\", line 332, in get_return_value\n",
      "    format(target_id, \".\", name, value))\n",
      "py4j.protocol.Py4JError: An error occurred while calling z:org.apache.spark.sql.functions.regexp_replace. Trace:\n",
      "py4j.Py4JException: Method regexp_replace([class org.apache.spark.sql.Column, class java.util.ArrayList, class java.lang.String]) does not exist\n",
      "\tat py4j.reflection.ReflectionEngine.getMethod(ReflectionEngine.java:318)\n",
      "\tat py4j.reflection.ReflectionEngine.getMethod(ReflectionEngine.java:339)\n",
      "\tat py4j.Gateway.invoke(Gateway.java:276)\n",
      "\tat py4j.commands.AbstractCommand.invokeMethod(AbstractCommand.java:132)\n",
      "\tat py4j.commands.CallCommand.execute(CallCommand.java:79)\n",
      "\tat py4j.GatewayConnection.run(GatewayConnection.java:238)\n",
      "\tat java.lang.Thread.run(Thread.java:748)\n",
      "\n",
      "\n",
      "\n"
     ]
    }
   ],
   "source": [
    "from pyspark.sql.functions import col,regexp_replace,regexp_extract\n",
    "input_df.select(col('emp_length'),regexp_replace(col('emp_length'),['a-z'],\"\").alias(\"new_field\")).show()"
   ]
  },
  {
   "cell_type": "code",
   "execution_count": null,
   "id": "circular-niger",
   "metadata": {},
   "outputs": [],
   "source": [
    "input_df=input_df.withColumn()"
   ]
  },
  {
   "cell_type": "code",
   "execution_count": null,
   "id": "dense-august",
   "metadata": {},
   "outputs": [],
   "source": []
  },
  {
   "cell_type": "code",
   "execution_count": null,
   "id": "nasty-conservative",
   "metadata": {},
   "outputs": [],
   "source": []
  }
 ],
 "metadata": {
  "kernelspec": {
   "display_name": "PySpark",
   "language": "",
   "name": "pysparkkernel"
  },
  "language_info": {
   "codemirror_mode": {
    "name": "python",
    "version": 2
   },
   "mimetype": "text/x-python",
   "name": "pyspark",
   "pygments_lexer": "python2"
  }
 },
 "nbformat": 4,
 "nbformat_minor": 5
}
